{
 "cells": [
  {
   "cell_type": "markdown",
   "metadata": {},
   "source": [
    "## Define the plain vanilla gradient descent function"
   ]
  },
  {
   "cell_type": "code",
   "execution_count": null,
   "metadata": {},
   "outputs": [],
   "source": [
    "def gd_fun(n_iter,fn_grad1,fn_grad2,fn_loss,eta,tol,x1,x2):\n",
    "    loss_path = [fn_loss(x1,x2)]\n",
    "    x1_path = [x1]\n",
    "    x2_path =[x2]\n",
    "    y_change = fn_loss(x1,x2)\n",
    "    iter_num = 0\n",
    "    \n",
    "    \n",
    "    g1 = fn_grad1(x1,x2)\n",
    "    g2 = fn_grad2(x1,x2)\n",
    "    \n",
    "    while (y_change > tol and iter_num < n_iter) :\n",
    "        tmp_x1 = x1 - eta * fn_grad1(x1,x2)\n",
    "        tmp_x2 = x2 - eta * fn_grad1(x1,x2)\n",
    "        tmp_y = fn_loss(tmp_x1,tmp_x2)\n",
    "        y_change = np.absolute(tmp_y - fn_loss(x1,x2))\n",
    "        x1 = tmp_x1\n",
    "        x2 = tmp_x2\n",
    "        \n",
    "        loss_path.append(tmp_y)\n",
    "        x1_path.append(x1)\n",
    "        x2_path.append(x2)\n",
    "        iter_num += 1\n",
    "    return loss_path,x1_path,x2_path \n"
   ]
  },
  {
   "cell_type": "markdown",
   "metadata": {},
   "source": [
    "## Define the momentum descent function"
   ]
  },
  {
   "cell_type": "code",
   "execution_count": 1,
   "metadata": {
    "ExecuteTime": {
     "end_time": "2019-07-12T01:16:44.283304Z",
     "start_time": "2019-07-12T01:16:44.255555Z"
    }
   },
   "outputs": [],
   "source": [
    "def momentum_fun(n_iter,fn_grad1,fn_grad2,fn_loss,eta,tol,x1,x2):\n",
    "    loss_path = [fn_loss(x1,x2)]\n",
    "    x1_path = [x1]\n",
    "    x2_path =[x2]\n",
    "    y_change = fn_loss(x1,x2)\n",
    "    iter_num = 0\n",
    "    moment = 0.9\n",
    "    g1 = fn_grad1(x1,x2)\n",
    "    g2 = fn_grad2(x1,x2)\n",
    "    v1 = 0\n",
    "    v2 = 0\n",
    "    while (y_change > tol and iter_num < n_iter) :\n",
    "        \n",
    "        v1 = eta * fn_grad1(x1,x2) + moment*v1\n",
    "        v2 = eta * fn_grad1(x1,x2) + moment*v2\n",
    "        tmp_x1 = x1 - v1 \n",
    "        tmp_x2 = x2 - v2 \n",
    "        tmp_y = fn_loss(tmp_x1,tmp_x2)\n",
    "        y_change = np.absolute(tmp_y - fn_loss(x1,x2))\n",
    "        x1 = tmp_x1\n",
    "        x2 = tmp_x2\n",
    "        \n",
    "        loss_path.append(tmp_y)\n",
    "        x1_path.append(x1)\n",
    "        x2_path.append(x2)\n",
    "        iter_num += 1\n",
    "    return loss_path,x1_path,x2_path "
   ]
  },
  {
   "cell_type": "markdown",
   "metadata": {},
   "source": [
    "## Define the Nesterov’s Accelerated Gradient (NAG) "
   ]
  },
  {
   "cell_type": "code",
   "execution_count": 2,
   "metadata": {
    "ExecuteTime": {
     "end_time": "2019-07-12T01:17:21.002671Z",
     "start_time": "2019-07-12T01:17:20.995756Z"
    }
   },
   "outputs": [],
   "source": [
    "def NAG_fun(n_iter,fn_grad1,fn_grad2,fn_loss,eta,tol,x1,x2):\n",
    "    loss_path = [fn_loss(x1,x2)]\n",
    "    x1_path = [x1]\n",
    "    x2_path =[x2]\n",
    "    y_change = fn_loss(x1,x2)\n",
    "    iter_num = 0\n",
    "    moment = 0.9\n",
    "    g1 = fn_grad1(x1,x2)\n",
    "    g2 = fn_grad2(x1,x2)\n",
    "    v1 = 0\n",
    "    v2 = 0\n",
    "    while (y_change > tol and iter_num < n_iter) :\n",
    "        \n",
    "        v1 = moment*v1 + eta* fn_grad1(x1-moment*v1,x2)\n",
    "        v2 = moment*v2 + eta* fn_grad2(x1,x2-moment*v2)\n",
    "        tmp_x1 = x1 - v1 \n",
    "        tmp_x2 = x2 - v2 \n",
    "        tmp_y = fn_loss(tmp_x1,tmp_x2)\n",
    "        y_change = np.absolute(tmp_y - fn_loss(x1,x2))\n",
    "        x1 = tmp_x1\n",
    "        x2 = tmp_x2\n",
    "        \n",
    "        loss_path.append(tmp_y)\n",
    "        x1_path.append(x1)\n",
    "        x2_path.append(x2)\n",
    "        iter_num += 1\n",
    "    return loss_path,x1_path,x2_path "
   ]
  }
 ],
 "metadata": {
  "kernelspec": {
   "display_name": "Python 3",
   "language": "python",
   "name": "python3"
  },
  "language_info": {
   "codemirror_mode": {
    "name": "ipython",
    "version": 3
   },
   "file_extension": ".py",
   "mimetype": "text/x-python",
   "name": "python",
   "nbconvert_exporter": "python",
   "pygments_lexer": "ipython3",
   "version": "3.6.7"
  },
  "toc": {
   "base_numbering": 1,
   "nav_menu": {},
   "number_sections": true,
   "sideBar": true,
   "skip_h1_title": false,
   "title_cell": "Table of Contents",
   "title_sidebar": "Contents",
   "toc_cell": false,
   "toc_position": {},
   "toc_section_display": true,
   "toc_window_display": false
  },
  "varInspector": {
   "cols": {
    "lenName": 16,
    "lenType": 16,
    "lenVar": 40
   },
   "kernels_config": {
    "python": {
     "delete_cmd_postfix": "",
     "delete_cmd_prefix": "del ",
     "library": "var_list.py",
     "varRefreshCmd": "print(var_dic_list())"
    },
    "r": {
     "delete_cmd_postfix": ") ",
     "delete_cmd_prefix": "rm(",
     "library": "var_list.r",
     "varRefreshCmd": "cat(var_dic_list()) "
    }
   },
   "types_to_exclude": [
    "module",
    "function",
    "builtin_function_or_method",
    "instance",
    "_Feature"
   ],
   "window_display": false
  }
 },
 "nbformat": 4,
 "nbformat_minor": 2
}
